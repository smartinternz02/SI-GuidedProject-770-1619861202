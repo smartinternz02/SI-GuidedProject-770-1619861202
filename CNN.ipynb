{
 "cells": [
  {
   "cell_type": "code",
   "execution_count": 1,
   "metadata": {},
   "outputs": [],
   "source": [
    "from tensorflow.keras.models import Sequential\n",
    "from tensorflow.keras.layers import Dense\n",
    "from tensorflow.keras.layers import Convolution2D\n",
    "from tensorflow.keras.layers import MaxPooling2D\n",
    "from tensorflow.keras.layers import Flatten"
   ]
  },
  {
   "cell_type": "code",
   "execution_count": 2,
   "metadata": {},
   "outputs": [],
   "source": [
    "from keras.preprocessing.image import ImageDataGenerator\n",
    "train_datagen =  ImageDataGenerator(rescale = 1./255,shear_range = 0.2,zoom_range = 0.2,horizontal_flip = True)\n",
    "test_datagen =  ImageDataGenerator(rescale = 1./255)"
   ]
  },
  {
   "cell_type": "code",
   "execution_count": 3,
   "metadata": {},
   "outputs": [
    {
     "name": "stdout",
     "output_type": "stream",
     "text": [
      "Found 1495 images belonging to 5 classes.\n",
      "Found 640 images belonging to 5 classes.\n"
     ]
    }
   ],
   "source": [
    "x_train = train_datagen.flow_from_directory(r\"D:\\Crop-animal data\\trainset\",target_size = (64,64),batch_size = 32, class_mode =\"categorical\")\n",
    "x_test = test_datagen.flow_from_directory(r\"D:\\Crop-animal data\\testset\",target_size = (64,64),batch_size = 32, class_mode =\"categorical\")"
   ]
  },
  {
   "cell_type": "code",
   "execution_count": 4,
   "metadata": {},
   "outputs": [],
   "source": [
    "model = Sequential()"
   ]
  },
  {
   "cell_type": "code",
   "execution_count": 5,
   "metadata": {},
   "outputs": [],
   "source": [
    "model.add(Convolution2D(32,(3,3) ,input_shape = (64,64,3),activation = \"relu\"))"
   ]
  },
  {
   "cell_type": "code",
   "execution_count": 6,
   "metadata": {},
   "outputs": [],
   "source": [
    "model.add(MaxPooling2D(2,2))"
   ]
  },
  {
   "cell_type": "code",
   "execution_count": 7,
   "metadata": {},
   "outputs": [],
   "source": [
    "model.add(Flatten())"
   ]
  },
  {
   "cell_type": "code",
   "execution_count": 8,
   "metadata": {},
   "outputs": [],
   "source": [
    "model.add(Dense(units = 512,activation = \"relu\",kernel_initializer = \"random_uniform\"))"
   ]
  },
  {
   "cell_type": "code",
   "execution_count": 9,
   "metadata": {},
   "outputs": [],
   "source": [
    "model.add(Dense(units = 5,activation = \"softmax\",kernel_initializer = \"random_uniform\"))"
   ]
  },
  {
   "cell_type": "code",
   "execution_count": 10,
   "metadata": {},
   "outputs": [],
   "source": [
    "model.compile(\"sgd\",loss = \"categorical_crossentropy\",metrics = [\"accuracy\"])"
   ]
  },
  {
   "cell_type": "code",
   "execution_count": 12,
   "metadata": {},
   "outputs": [
    {
     "name": "stdout",
     "output_type": "stream",
     "text": [
      "Epoch 1/50\n",
      "47/47 [==============================] - 24s 512ms/step - loss: 1.1251 - accuracy: 0.5485 - val_loss: 0.9454 - val_accuracy: 0.6344\n",
      "Epoch 2/50\n",
      "47/47 [==============================] - 23s 489ms/step - loss: 1.1038 - accuracy: 0.5692 - val_loss: 0.9618 - val_accuracy: 0.6531\n",
      "Epoch 3/50\n",
      "47/47 [==============================] - 24s 500ms/step - loss: 1.0748 - accuracy: 0.5719 - val_loss: 0.9497 - val_accuracy: 0.6141\n",
      "Epoch 4/50\n",
      "47/47 [==============================] - 24s 511ms/step - loss: 1.0869 - accuracy: 0.5612 - val_loss: 0.9346 - val_accuracy: 0.6281\n",
      "Epoch 5/50\n",
      "47/47 [==============================] - 23s 497ms/step - loss: 1.0606 - accuracy: 0.5679 - val_loss: 0.9105 - val_accuracy: 0.6547\n",
      "Epoch 6/50\n",
      "47/47 [==============================] - 23s 492ms/step - loss: 1.0383 - accuracy: 0.5926 - val_loss: 0.9495 - val_accuracy: 0.6062\n",
      "Epoch 7/50\n",
      "47/47 [==============================] - 24s 514ms/step - loss: 1.0335 - accuracy: 0.5893 - val_loss: 0.8617 - val_accuracy: 0.6609\n",
      "Epoch 8/50\n",
      "47/47 [==============================] - 23s 492ms/step - loss: 1.0248 - accuracy: 0.5893 - val_loss: 1.0551 - val_accuracy: 0.5797\n",
      "Epoch 9/50\n",
      "47/47 [==============================] - 24s 504ms/step - loss: 1.0122 - accuracy: 0.6087 - val_loss: 0.9303 - val_accuracy: 0.6391\n",
      "Epoch 10/50\n",
      "47/47 [==============================] - 24s 515ms/step - loss: 0.9891 - accuracy: 0.6194 - val_loss: 0.7231 - val_accuracy: 0.7469\n",
      "Epoch 11/50\n",
      "47/47 [==============================] - 17s 359ms/step - loss: 0.9904 - accuracy: 0.6067 - val_loss: 0.7369 - val_accuracy: 0.7531\n",
      "Epoch 12/50\n",
      "47/47 [==============================] - 15s 329ms/step - loss: 0.9665 - accuracy: 0.6328 - val_loss: 0.7869 - val_accuracy: 0.7094\n",
      "Epoch 13/50\n",
      "47/47 [==============================] - 15s 327ms/step - loss: 0.9485 - accuracy: 0.6328 - val_loss: 0.7006 - val_accuracy: 0.7516\n",
      "Epoch 14/50\n",
      "47/47 [==============================] - 17s 361ms/step - loss: 0.9317 - accuracy: 0.6421 - val_loss: 0.8025 - val_accuracy: 0.6875\n",
      "Epoch 15/50\n",
      "47/47 [==============================] - 18s 385ms/step - loss: 0.9322 - accuracy: 0.6462 - val_loss: 0.6709 - val_accuracy: 0.7625\n",
      "Epoch 16/50\n",
      "47/47 [==============================] - 18s 388ms/step - loss: 0.9183 - accuracy: 0.6482 - val_loss: 0.6714 - val_accuracy: 0.7391\n",
      "Epoch 17/50\n",
      "47/47 [==============================] - 16s 342ms/step - loss: 0.9017 - accuracy: 0.6468 - val_loss: 0.8195 - val_accuracy: 0.6797\n",
      "Epoch 18/50\n",
      "47/47 [==============================] - 17s 364ms/step - loss: 0.8761 - accuracy: 0.6615 - val_loss: 0.7327 - val_accuracy: 0.7422\n",
      "Epoch 19/50\n",
      "47/47 [==============================] - 16s 338ms/step - loss: 0.8750 - accuracy: 0.6763 - val_loss: 0.6535 - val_accuracy: 0.7766\n",
      "Epoch 20/50\n",
      "47/47 [==============================] - 17s 371ms/step - loss: 0.8608 - accuracy: 0.6702 - val_loss: 0.6299 - val_accuracy: 0.7688\n",
      "Epoch 21/50\n",
      "47/47 [==============================] - 15s 321ms/step - loss: 0.8452 - accuracy: 0.6783 - val_loss: 0.5842 - val_accuracy: 0.7844\n",
      "Epoch 22/50\n",
      "47/47 [==============================] - 18s 387ms/step - loss: 0.8175 - accuracy: 0.6923 - val_loss: 0.6853 - val_accuracy: 0.7406\n",
      "Epoch 23/50\n",
      "47/47 [==============================] - 17s 353ms/step - loss: 0.8188 - accuracy: 0.6950 - val_loss: 0.5668 - val_accuracy: 0.7984\n",
      "Epoch 24/50\n",
      "47/47 [==============================] - 18s 383ms/step - loss: 0.8172 - accuracy: 0.6876 - val_loss: 0.7445 - val_accuracy: 0.7125\n",
      "Epoch 25/50\n",
      "47/47 [==============================] - 17s 357ms/step - loss: 0.7775 - accuracy: 0.7104 - val_loss: 0.7738 - val_accuracy: 0.6875\n",
      "Epoch 26/50\n",
      "47/47 [==============================] - 18s 374ms/step - loss: 0.7941 - accuracy: 0.7017 - val_loss: 0.6814 - val_accuracy: 0.7281\n",
      "Epoch 27/50\n",
      "47/47 [==============================] - 16s 346ms/step - loss: 0.7656 - accuracy: 0.7204 - val_loss: 0.5867 - val_accuracy: 0.8047\n",
      "Epoch 28/50\n",
      "47/47 [==============================] - 16s 339ms/step - loss: 0.7574 - accuracy: 0.7157 - val_loss: 0.5790 - val_accuracy: 0.7969\n",
      "Epoch 29/50\n",
      "47/47 [==============================] - 15s 326ms/step - loss: 0.7440 - accuracy: 0.7284 - val_loss: 0.6047 - val_accuracy: 0.7688\n",
      "Epoch 30/50\n",
      "47/47 [==============================] - 16s 339ms/step - loss: 0.7275 - accuracy: 0.7324 - val_loss: 0.5341 - val_accuracy: 0.8047\n",
      "Epoch 31/50\n",
      "47/47 [==============================] - 15s 324ms/step - loss: 0.7272 - accuracy: 0.7331 - val_loss: 0.5479 - val_accuracy: 0.8031\n",
      "Epoch 32/50\n",
      "47/47 [==============================] - 15s 325ms/step - loss: 0.7245 - accuracy: 0.7298 - val_loss: 0.6705 - val_accuracy: 0.7266\n",
      "Epoch 33/50\n",
      "47/47 [==============================] - 16s 338ms/step - loss: 0.6755 - accuracy: 0.7478 - val_loss: 0.6274 - val_accuracy: 0.7672\n",
      "Epoch 34/50\n",
      "47/47 [==============================] - 15s 313ms/step - loss: 0.6589 - accuracy: 0.7692 - val_loss: 0.4788 - val_accuracy: 0.8313\n",
      "Epoch 35/50\n",
      "47/47 [==============================] - 16s 342ms/step - loss: 0.6867 - accuracy: 0.7385 - val_loss: 0.5352 - val_accuracy: 0.8219\n",
      "Epoch 36/50\n",
      "47/47 [==============================] - 15s 330ms/step - loss: 0.6726 - accuracy: 0.7525 - val_loss: 0.7078 - val_accuracy: 0.7422\n",
      "Epoch 37/50\n",
      "47/47 [==============================] - 16s 341ms/step - loss: 0.6530 - accuracy: 0.7579 - val_loss: 0.7214 - val_accuracy: 0.7188\n",
      "Epoch 38/50\n",
      "47/47 [==============================] - 16s 331ms/step - loss: 0.6177 - accuracy: 0.7813 - val_loss: 0.4352 - val_accuracy: 0.8484\n",
      "Epoch 39/50\n",
      "47/47 [==============================] - 15s 324ms/step - loss: 0.6269 - accuracy: 0.7625 - val_loss: 0.4392 - val_accuracy: 0.8578\n",
      "Epoch 40/50\n",
      "47/47 [==============================] - 17s 370ms/step - loss: 0.5884 - accuracy: 0.7960 - val_loss: 0.5104 - val_accuracy: 0.8031\n",
      "Epoch 41/50\n",
      "47/47 [==============================] - 15s 320ms/step - loss: 0.6092 - accuracy: 0.7773 - val_loss: 0.8496 - val_accuracy: 0.6719\n",
      "Epoch 42/50\n",
      "47/47 [==============================] - 17s 363ms/step - loss: 0.5910 - accuracy: 0.7739 - val_loss: 0.4824 - val_accuracy: 0.8375\n",
      "Epoch 43/50\n",
      "47/47 [==============================] - 18s 385ms/step - loss: 0.5721 - accuracy: 0.7920 - val_loss: 0.4752 - val_accuracy: 0.8297\n",
      "Epoch 44/50\n",
      "47/47 [==============================] - 18s 382ms/step - loss: 0.5588 - accuracy: 0.7960 - val_loss: 0.5272 - val_accuracy: 0.8234\n",
      "Epoch 45/50\n",
      "47/47 [==============================] - 17s 361ms/step - loss: 0.5684 - accuracy: 0.7973 - val_loss: 0.5413 - val_accuracy: 0.7766\n",
      "Epoch 46/50\n",
      "47/47 [==============================] - 16s 340ms/step - loss: 0.5381 - accuracy: 0.8007 - val_loss: 0.4609 - val_accuracy: 0.8500\n",
      "Epoch 47/50\n",
      "47/47 [==============================] - 16s 346ms/step - loss: 0.5089 - accuracy: 0.8214 - val_loss: 0.3423 - val_accuracy: 0.8813\n",
      "Epoch 48/50\n",
      "47/47 [==============================] - 18s 386ms/step - loss: 0.5055 - accuracy: 0.8314 - val_loss: 0.3944 - val_accuracy: 0.8625\n",
      "Epoch 49/50\n",
      "47/47 [==============================] - 17s 366ms/step - loss: 0.5129 - accuracy: 0.8187 - val_loss: 0.3032 - val_accuracy: 0.9031\n",
      "Epoch 50/50\n",
      "47/47 [==============================] - 16s 336ms/step - loss: 0.4785 - accuracy: 0.8401 - val_loss: 0.2722 - val_accuracy: 0.9156\n"
     ]
    },
    {
     "data": {
      "text/plain": [
       "<tensorflow.python.keras.callbacks.History at 0x2b280c2c0d0>"
      ]
     },
     "execution_count": 12,
     "metadata": {},
     "output_type": "execute_result"
    }
   ],
   "source": [
    "model.fit_generator(x_train ,steps_per_epoch = 47 ,epochs = 50,validation_data= x_test , validation_steps = 20)"
   ]
  },
  {
   "cell_type": "code",
   "execution_count": 13,
   "metadata": {},
   "outputs": [],
   "source": [
    "model.save(\"animal.h5\")"
   ]
  },
  {
   "cell_type": "code",
   "execution_count": 14,
   "metadata": {},
   "outputs": [
    {
     "data": {
      "text/plain": [
       "'D:\\\\python progs'"
      ]
     },
     "execution_count": 14,
     "metadata": {},
     "output_type": "execute_result"
    }
   ],
   "source": [
    "pwd"
   ]
  },
  {
   "cell_type": "code",
   "execution_count": null,
   "metadata": {},
   "outputs": [],
   "source": []
  }
 ],
 "metadata": {
  "kernelspec": {
   "display_name": "Python 3",
   "language": "python",
   "name": "python3"
  },
  "language_info": {
   "codemirror_mode": {
    "name": "ipython",
    "version": 3
   },
   "file_extension": ".py",
   "mimetype": "text/x-python",
   "name": "python",
   "nbconvert_exporter": "python",
   "pygments_lexer": "ipython3",
   "version": "3.8.5"
  }
 },
 "nbformat": 4,
 "nbformat_minor": 4
}
